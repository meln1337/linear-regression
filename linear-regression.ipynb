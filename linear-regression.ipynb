{
 "cells": [
  {
   "cell_type": "markdown",
   "metadata": {},
   "source": [
    "Linear regression attempts to model the relationship between two variables by fitting a linear equation to observed data. One variable is considered to be an explanatory variable, and the other is considered to be a dependent variable. For example, a modeler might want to relate the weights of individuals to their heights using a linear regression model.\n",
    "\n",
    "The formula by which we obtain slope and intercept of the function\n",
    "\n",
    "Where a is slope and b is intercept (y = ax + b)\n",
    "\n",
    "<img src=\"https://www.statisticshowto.com/wp-content/uploads/2009/11/linearregressionequations.bmp\" />"
   ]
  },
  {
   "cell_type": "code",
   "execution_count": 3,
   "metadata": {},
   "outputs": [],
   "source": [
    "import numpy as np\n",
    "import matplotlib.pyplot as plt"
   ]
  },
  {
   "cell_type": "code",
   "execution_count": 6,
   "metadata": {},
   "outputs": [],
   "source": [
    "# Defining linear regression\n",
    "def linear_regression(x, y):\n",
    "  k = (len(x) * np.sum(x * y) - np.sum(x) * np.sum(y)) / (len(x) * np.sum(x ** 2) - np.sum(x) ** 2) \n",
    "  b = (np.sum(y) * np.sum(x ** 2) - np.sum(x) * np.sum(x * y)) / (len(x) * np.sum(x ** 2) - np.sum(x) ** 2)\n",
    "  return k, b"
   ]
  },
  {
   "cell_type": "code",
   "execution_count": 7,
   "metadata": {},
   "outputs": [],
   "source": [
    "# Defining linear function\n",
    "def line(k, x, b):\n",
    "  return k * x + b"
   ]
  },
  {
   "cell_type": "code",
   "execution_count": 8,
   "metadata": {},
   "outputs": [
    {
     "data": {
      "text/plain": [
       "(1.1043873995591267, -127.80694019768185)"
      ]
     },
     "execution_count": 8,
     "metadata": {},
     "output_type": "execute_result"
    },
    {
     "data": {
      "image/png": "[encoded data removed]",
      "text/plain": [
       "<Figure size 432x288 with 1 Axes>"
      ]
     },
     "metadata": {
      "needs_background": "light"
     },
     "output_type": "display_data"
    }
   ],
   "source": [
    "# Definding the boundaries of the graphic\n",
    "ax = np.array([175,180,150,190,200,178,170,160])\n",
    "ay = np.array([60,75,40,85,90,73,58,46])\n",
    "\n",
    "bx = np.arange(140, 205)\n",
    "k, b = linear_regression(ax, ay)\n",
    "\n",
    "plt.grid(True)\n",
    "plt.plot(ax, ay, '.', bx, line(k, bx, b))\n",
    "\n",
    "linear_regression(ax, ay)"
   ]
  },
  {
   "cell_type": "code",
   "execution_count": 11,
   "metadata": {},
   "outputs": [
    {
     "name": "stdout",
     "output_type": "stream",
     "text": [
      "(1.1043873995591267, -127.80694019768185)\n"
     ]
    }
   ],
   "source": [
    "# Showing what coefficients we get\n",
    "print(linear_regression(ax, ay))"
   ]
  }
 ],
 "metadata": {
  "kernelspec": {
   "display_name": "Python 3",
   "language": "python",
   "name": "python3"
  },
  "language_info": {
   "codemirror_mode": {
    "name": "ipython",
    "version": 3
   },
   "file_extension": ".py",
   "mimetype": "text/x-python",
   "name": "python",
   "nbconvert_exporter": "python",
   "pygments_lexer": "ipython3",
   "version": "3.8.3"
  }
 },
 "nbformat": 4,
 "nbformat_minor": 4
}
